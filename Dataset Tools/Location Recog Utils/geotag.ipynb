{
 "cells": [
  {
   "cell_type": "code",
   "execution_count": null,
   "metadata": {
    "execution": {
     "iopub.execute_input": "2025-04-18T06:53:29.766378Z",
     "iopub.status.busy": "2025-04-18T06:53:29.765760Z",
     "iopub.status.idle": "2025-04-18T06:53:30.622839Z",
     "shell.execute_reply": "2025-04-18T06:53:30.621931Z",
     "shell.execute_reply.started": "2025-04-18T06:53:29.766351Z"
    },
    "trusted": true
   },
   "outputs": [],
   "source": [
    "# Imports\n",
    "import os, random\n",
    "import numpy as np\n",
    "import pandas as pd\n",
    "import cv2\n",
    "from pathlib import Path\n",
    "from tqdm.notebook import tqdm"
   ]
  },
  {
   "cell_type": "code",
   "execution_count": 2,
   "metadata": {
    "execution": {
     "iopub.execute_input": "2025-04-18T06:53:32.909733Z",
     "iopub.status.busy": "2025-04-18T06:53:32.909329Z",
     "iopub.status.idle": "2025-04-18T06:53:32.943739Z",
     "shell.execute_reply": "2025-04-18T06:53:32.942958Z",
     "shell.execute_reply.started": "2025-04-18T06:53:32.909708Z"
    },
    "trusted": true
   },
   "outputs": [
    {
     "name": "stdout",
     "output_type": "stream",
     "text": [
      " Loaded 64 fall coordinates from coords CSV.\n"
     ]
    }
   ],
   "source": [
    "roi_df = pd.read_csv(\"/kaggle/input/seasonal-regions-coords/seasonal_regions_coordinates.csv\")\n",
    "\n",
    "# Season in lowecase\n",
    "SEASON = \"fall\"\n",
    "\n",
    "df = roi_df[roi_df[\"Season\"].str.lower() == SEASON].reset_index(drop=True)\n",
    "print(f\" Loaded {len(df)} {SEASON} coordinates from coords CSV.\")\n",
    "\n",
    "SEASON_DIR = \"\"\n",
    "if SEASON == \"fall\" :\n",
    "    SEASON_DIR = os.path.join(\"/kaggle/input/tum-sentinel-1-2\", \"Sentinel_fall\", \"ROIs1970_fall\")\n",
    "elif SEASON == \"spring\" :\n",
    "    SEASON_DIR = os.path.join(\"/kaggle/input/tum-sentinel-1-2\", \"Sentinel_spring\", \"ROIs1158_spring\")\n",
    "elif SEASON == \"winter\" :\n",
    "    SEASON_DIR = os.path.join(\"/kaggle/input/tum-sentinel-1-2\", \"Sentinel_winter\", \"ROIs2017_winter\")\n",
    "elif SEASON == \"summer\" :\n",
    "    SEASON_DIR = os.path.join(\"/kaggle/input/tum-sentinel-1-2\", \"Sentinel_summer\", \"ROIs1868_summer\")"
   ]
  },
  {
   "cell_type": "code",
   "execution_count": null,
   "metadata": {
    "trusted": true
   },
   "outputs": [],
   "source": [
    "from kaggle_secrets import UserSecretsClient\n",
    "user_secrets = UserSecretsClient()\n",
    "secret_value_0 = user_secrets.get_secret(\"CLIENT-ID\")\n",
    "secret_value_1 = user_secrets.get_secret(\"CLIENT-SECRET\")"
   ]
  },
  {
   "cell_type": "code",
   "execution_count": null,
   "metadata": {
    "trusted": true
   },
   "outputs": [],
   "source": [
    "from oauthlib.oauth2 import BackendApplicationClient\n",
    "from requests_oauthlib import OAuth2Session\n",
    "\n",
    "def getOAuth() :\n",
    "    # Client credentials\n",
    "    client_id =secret_value_0\n",
    "    client_secret = secret_value_1\n",
    "\n",
    "    # Create session\n",
    "    client = BackendApplicationClient(client_id=client_id)\n",
    "    oauth = OAuth2Session(client=client)\n",
    "\n",
    "    # Get token\n",
    "    token = oauth.fetch_token(token_url='https://identity.dataspace.copernicus.eu/auth/realms/CDSE/protocol/openid-connect/token',\n",
    "                            client_secret=client_secret,\n",
    "                            include_client_id=True)\n",
    "\n",
    "    # Proper error handling\n",
    "    def sentinelhub_compliance_hook(response):\n",
    "        response.raise_for_status()\n",
    "        return response\n",
    "\n",
    "    oauth.register_compliance_hook(\"access_token_response\", sentinelhub_compliance_hook)\n",
    "\n",
    "    SessionData = (oauth, token)\n",
    "    return SessionData"
   ]
  },
  {
   "cell_type": "code",
   "execution_count": null,
   "metadata": {
    "trusted": true
   },
   "outputs": [],
   "source": [
    "SEN2_COLLECTION_ID = 'byoc-5460de54-082e-473a-b6ea-d5cbe3c17cca'\n",
    "\n",
    "def getImage(lat1: float, lon1: float, lat2: float, lon2: float, oauth: OAuth2Session, year: int) :\n",
    "    \n",
    "    bbox = [lon1, lat2, lon2, lat1]\n",
    "\n",
    "    img_height = 2500\n",
    "    img_width = 2500\n",
    "\n",
    "    evalScript = \"\"\"\n",
    "    //VERSION=3\n",
    "    function setup() {\n",
    "        return {\n",
    "            input: [\"B02\", \"B03\", \"B04\"],\n",
    "            output: { bands: 3 }\n",
    "        };\n",
    "    }\n",
    "\n",
    "    function evaluatePixel(sample) {\n",
    "        return [2.5 * sample.B04/10000, 2.5 * sample.B03/10000, 2.5 * sample.B02/10000];\n",
    "    }\n",
    "    \"\"\"\n",
    "\n",
    "    fromDateTime = f\"{year}-09-29T23:59:59Z\"\n",
    "    toDateTime = f\"{year}-10-30T00:00:00Z\"\n",
    "\n",
    "    request = {\n",
    "        \"input\": {\n",
    "            \"bounds\": {\n",
    "                \"bbox\": bbox\n",
    "            },\n",
    "            \"data\": [\n",
    "                {\n",
    "                    \"dataFilter\": {\n",
    "                        \"timerange\": {\n",
    "                            \"from\": fromDateTime,\n",
    "                            \"to\": toDateTime\n",
    "                        }\n",
    "                    },\n",
    "                    \"type\": SEN2_COLLECTION_ID\n",
    "                }\n",
    "            ]\n",
    "        },\n",
    "        \"output\": {\n",
    "            \"width\": img_width,\n",
    "            \"height\": img_height,\n",
    "            \"responses\": [\n",
    "                {\n",
    "                    \"identifier\": \"default\",\n",
    "                    \"format\": {\n",
    "                        \"type\": \"image/png\"\n",
    "                    }\n",
    "                }\n",
    "            ]\n",
    "        },\n",
    "        \"evalscript\": evalScript\n",
    "    }\n",
    "\n",
    "    url = \"https://sh.dataspace.copernicus.eu/api/v1/process\"\n",
    "    response = oauth.post(url, json=request)\n",
    "\n",
    "    if response.ok :\n",
    "        with open(\"temp.png\", 'wb') as fp :\n",
    "            fp.write(response.content)\n",
    "\n",
    "        big_img = cv2.imread(\"temp.png\")\n",
    "        all_parts = []\n",
    "        for i in range(81) :\n",
    "\n",
    "            x = i % 9\n",
    "            y = i // 9\n",
    "\n",
    "            crop_s2 = big_img[256*x : 256*(x+1), 256*y : 256*(y+1)]\n",
    "            all_parts.append(crop_s2)\n",
    "\n",
    "        return (\"success\", all_parts)\n",
    "\n",
    "    else :\n",
    "        return (\"error\", \"error\")\n"
   ]
  },
  {
   "cell_type": "code",
   "execution_count": null,
   "metadata": {
    "trusted": true
   },
   "outputs": [],
   "source": [
    "#  ORB Matching Function\n",
    "def orb_match_score(img1, img2):\n",
    "    try:\n",
    "        orb = cv2.ORB_create()\n",
    "        kp1, des1 = orb.detectAndCompute(img1, None)\n",
    "        kp2, des2 = orb.detectAndCompute(img2, None)\n",
    "        if des1 is None or des2 is None:\n",
    "            return 0\n",
    "        bf = cv2.BFMatcher(cv2.NORM_HAMMING, crossCheck=True)\n",
    "        matches = bf.match(des1, des2)\n",
    "        return len(matches)\n",
    "    except:\n",
    "        return 0"
   ]
  },
  {
   "cell_type": "code",
   "execution_count": null,
   "metadata": {
    "trusted": true
   },
   "outputs": [],
   "source": [
    "# Download images\n",
    "from time import time\n",
    "\n",
    "oauth, token = getOAuth()\n",
    "YEAR = 2021\n",
    "\n",
    "for i, row in tqdm(df.iterrows(), total=df.shape[0]):\n",
    "        \n",
    "        lat, lon = row[\"Latitude\"], row[\"Longitude\"]\n",
    "        bbox = [lat, lon, lat+4, lon+3]\n",
    "\n",
    "        try:\n",
    "            if time() > (token[\"expires_at\"] - 20) :\n",
    "                oauth, token = getOAuth()\n",
    "\n",
    "            status, s2_pngs = getImage(lat, lon, lat+4, lon+3, oauth, YEAR)\n",
    "\n",
    "            if status == \"error\" :\n",
    "                raise Exception(\"Error getting data from Copernicus\")\n",
    "\n",
    "            Path(f\"{SEASON}/{i}\").mkdir(parents=True, exist_ok=True)\n",
    "            for index, cropped_image in enumerate(tqdm(s2_pngs, leave=False)) :\n",
    "                cv2.imwrite(f\"{SEASON}/{i}/image_{index}.png\", cropped_image)\n",
    "\n",
    "        except Exception as e:\n",
    "            print(f\" Error for coordinate ({lat},{lon}):\", e)"
   ]
  },
  {
   "cell_type": "code",
   "execution_count": null,
   "metadata": {
    "trusted": true
   },
   "outputs": [],
   "source": [
    "# Process Each s2 Folder\n",
    "results = []\n",
    "s2_folders = sorted([f.path for f in os.scandir(SEASON_DIR) if f.is_dir() and \"s2_\" in f.name])\n",
    "# print(s2_folders)\n",
    "\n",
    "for folder in s2_folders:\n",
    "    folder_name = os.path.basename(folder)\n",
    "    print(f\"\\n Processing {folder_name}...\")\n",
    "\n",
    "    images = [img for img in os.listdir(folder) if img.endswith(\".png\")]\n",
    "    if not images:\n",
    "        print(\" No PNGs in\", folder)\n",
    "        continue\n",
    "\n",
    "    target_img_name = random.choice(images)\n",
    "    target_path = os.path.join(folder, target_img_name)\n",
    "    target_img = cv2.imread(target_path, cv2.IMREAD_COLOR)\n",
    "    if target_img is None:\n",
    "        print(\" Couldn't load target image:\", target_img_name)\n",
    "        continue\n",
    "\n",
    "    best_score = 0\n",
    "    best_img_arr = None\n",
    "    best_coord = None\n",
    "    best_img = None\n",
    "\n",
    "    \n",
    "    for i, row in tqdm(df.iterrows(), total=df.shape[0]):\n",
    "        \n",
    "        lat, lon = row[\"Latitude\"], row[\"Longitude\"]\n",
    "\n",
    "        try:\n",
    "            s2_pngs =[cv2.imread(f\"{SEASON}/{i}/{down_img}\", cv2.IMREAD_COLOR) for down_img in os.listdir(f\"{SEASON}/{i}\")]\n",
    "\n",
    "            # Matching of Sentinel-2 and target image \n",
    "            for img in tqdm(s2_pngs, leave=False):\n",
    "                img_arr = (np.array(img) * 255).astype(np.uint8)\n",
    "                score = orb_match_score(target_img, img_arr)\n",
    "                if score > best_score:\n",
    "                    best_score = score\n",
    "                    best_img_arr = img_arr\n",
    "                    best_coord = (lat, lon)\n",
    "                    best_img = img\n",
    "        except Exception as e:\n",
    "            print(f\" Error for coordinate ({lat},{lon}):\", e)\n",
    "\n",
    "    if best_img is None:\n",
    "        print(\" No suitable match found for\", folder_name)\n",
    "        continue\n",
    "\n",
    "    print(f\" Best match score: {best_score}\")\n",
    "\n",
    "    temp_zone = \"Tropical\" if abs(best_coord[0]) < 23.5 else \"Temperate\" if abs(best_coord[0]) < 66.5 else \"Arctic\"\n",
    "    \n",
    "    results.append({\n",
    "        \"s2_folder\": folder_name,\n",
    "        \"temperature_zone\": temp_zone,\n",
    "        \"match_score\": best_score\n",
    "    })"
   ]
  },
  {
   "cell_type": "code",
   "execution_count": null,
   "metadata": {
    "trusted": true
   },
   "outputs": [],
   "source": [
    "# Save results\n",
    "output_df = pd.DataFrame(results)\n",
    "csv_output_path = f\"{SEASON}_ROI_results.csv\"\n",
    "output_df.to_csv(csv_output_path, index=False)\n",
    "print(\"\\n Final CSV saved at\", csv_output_path)"
   ]
  }
 ],
 "metadata": {
  "kaggle": {
   "accelerator": "none",
   "dataSources": [
    {
     "datasetId": 6182201,
     "sourceId": 10039449,
     "sourceType": "datasetVersion"
    },
    {
     "datasetId": 7153741,
     "sourceId": 11422777,
     "sourceType": "datasetVersion"
    }
   ],
   "dockerImageVersionId": 31012,
   "isGpuEnabled": false,
   "isInternetEnabled": true,
   "language": "python",
   "sourceType": "notebook"
  },
  "kernelspec": {
   "display_name": "Python 3",
   "language": "python",
   "name": "python3"
  },
  "language_info": {
   "codemirror_mode": {
    "name": "ipython",
    "version": 3
   },
   "file_extension": ".py",
   "mimetype": "text/x-python",
   "name": "python",
   "nbconvert_exporter": "python",
   "pygments_lexer": "ipython3",
   "version": "3.11.11"
  }
 },
 "nbformat": 4,
 "nbformat_minor": 4
}
