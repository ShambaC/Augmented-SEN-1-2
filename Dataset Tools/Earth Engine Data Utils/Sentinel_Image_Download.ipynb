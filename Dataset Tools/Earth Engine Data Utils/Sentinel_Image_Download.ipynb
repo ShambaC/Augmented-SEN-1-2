{
  "cells": [
    {
      "cell_type": "code",
      "execution_count": null,
      "metadata": {
        "colab": {
          "base_uri": "https://localhost:8080/"
        },
        "id": "5TU7qzNsrEJB",
        "outputId": "8a068fc6-136f-41ba-df5f-8b13a57dae2d"
      },
      "outputs": [],
      "source": [
        "import pandas as pd\n",
        "import urllib.request\n",
        "import os\n",
        "from PIL import Image\n",
        "\n",
        "ds = pd.read_csv('Sentinel_Image_Samples_9_4.csv')\n",
        "\n",
        "s1_imageLink = ds['s1_thumb']\n",
        "s1_imagePath = ds['sentinel1_filePath']\n",
        "\n",
        "s2_imageLink = ds['s2_thumb']\n",
        "s2_imagePath = ds['sentinel2_filePath']\n",
        "\n",
        "for i in range(len(s1_imageLink)):\n",
        "  try:\n",
        "    s1_directory = os.path.dirname(s1_imagePath[i])\n",
        "    s2_directory = os.path.dirname(s2_imagePath[i])\n",
        "\n",
        "    os.makedirs(s1_directory, exist_ok=True)\n",
        "    os.makedirs(s2_directory, exist_ok=True)\n",
        "\n",
        "    s1_fileName = os.path.basename(s1_imagePath[i])\n",
        "    s2_fileName = os.path.basename(s2_imagePath[i])\n",
        "\n",
        "    urllib.request.urlretrieve(s1_imageLink[i], os.path.join(s1_directory, s1_fileName))\n",
        "    urllib.request.urlretrieve(s2_imageLink[i], os.path.join(s2_directory, s2_fileName))\n",
        "\n",
        "  except Exception as e:\n",
        "    print(f\"Error downloading image {i}: {e}\")\n"
      ]
    },
    {
      "cell_type": "code",
      "execution_count": null,
      "metadata": {
        "colab": {
          "base_uri": "https://localhost:8080/",
          "height": 1000
        },
        "id": "c36ZKLd0t_XO",
        "outputId": "17d252ae-efa6-49e6-d9fc-23ac79a13b21"
      },
      "outputs": [],
      "source": [
        "!zip -r /content/Autumn.zip /content/Autumn\n",
        "!zip -r /content/Spring.zip /content/Spring\n",
        "!zip -r /content/Summer.zip /content/Summer\n",
        "!zip -r /content/Winter.zip /content/Winter\n",
        "\n",
        "from google.colab import files\n",
        "files.download('/content/Autumn.zip')\n",
        "files.download('/content/Spring.zip')\n",
        "files.download('/content/Summer.zip')\n",
        "files.download('/content/Winter.zip')"
      ]
    }
  ],
  "metadata": {
    "colab": {
      "provenance": []
    },
    "kernelspec": {
      "display_name": "Python 3",
      "name": "python3"
    },
    "language_info": {
      "name": "python"
    }
  },
  "nbformat": 4,
  "nbformat_minor": 0
}
